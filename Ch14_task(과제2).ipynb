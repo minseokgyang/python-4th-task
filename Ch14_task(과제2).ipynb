{
  "cells": [
    {
      "cell_type": "markdown",
      "metadata": {
        "id": "MVIS4FHl3kSp"
      },
      "source": [
        "<span style=\"font-size:100%\">\n",
        "\n",
        "수업은 모두 열심히 들으셨나요?\n",
        "\n",
        "간혹 강의에서 언급되지 않은 내용이 문제로 나올 수 있습니다.<br>\n",
        "그럴땐 강의 내용 외 문제는 구글링을 통해 해결해주세요<br></span>\n",
        "<span style=\"font-size:80%\">\n",
        "(구글링 또한 개발자가 갖쳐야할 역량 중에 하나랍니다 😊)\n",
        "</span>\n",
        "\n",
        "---"
      ]
    },
    {
      "cell_type": "markdown",
      "metadata": {
        "id": "4fHx4hui3kSt"
      },
      "source": [
        "### Chapter14 : `Python if문을 이용해 조건을 만족 또는 만족하지 않는 상황을 이용해 프로그램의 흐름 제어를 해보자`"
      ]
    },
    {
      "cell_type": "markdown",
      "metadata": {
        "id": "MfDXrV443kSv"
      },
      "source": [
        "<span style=\"font-size:80%\">[문제1]<br><br></span>\n",
        "```다음 중 True로 취급되지 않는 것을 골라주세요```\n",
        "\n",
        "1. 1\n",
        "2. \"수강생\"\n",
        "3. None\n",
        "4. [\"양파\", \"옥수수\", \"배추\"]"
      ]
    },
    {
      "cell_type": "markdown",
      "metadata": {
        "id": "r5lB5x7s3kSw"
      },
      "source": [
        "<span style=\"color:red\">답변 3</span>"
      ]
    },
    {
      "cell_type": "markdown",
      "metadata": {
        "id": "LQxs0Wl33kSw"
      },
      "source": []
    },
    {
      "cell_type": "markdown",
      "metadata": {
        "id": "TAtdOHTa3kSx"
      },
      "source": [
        "----"
      ]
    },
    {
      "cell_type": "markdown",
      "metadata": {
        "id": "oP1jYz3v3kSx"
      },
      "source": [
        "<span style=\"font-size:80%\">[문제2]<br><br></span>\n",
        "```아래 코드의 출력 결과를 입력해주세요```\n",
        "\n",
        "```if not ' ':```<br>\n",
        "&nbsp;```  print(True)```<br>\n",
        "\n",
        "```else:```<br>\n",
        "&nbsp;```  print(False)```<br>"
      ]
    },
    {
      "cell_type": "markdown",
      "metadata": {
        "id": "ENXnw42m3kSy"
      },
      "source": [
        "<span style=\"color:red\">답변:\n",
        "        True\n",
        "</span>"
      ]
    },
    {
      "cell_type": "markdown",
      "metadata": {
        "id": "E3sHlv7h3kSy"
      },
      "source": []
    },
    {
      "cell_type": "markdown",
      "metadata": {
        "id": "_E9MJomp3kSz"
      },
      "source": [
        "----"
      ]
    },
    {
      "cell_type": "markdown",
      "metadata": {
        "id": "sp_fkbuV3kSz"
      },
      "source": [
        "<span style=\"font-size:80%\">[문제3]<br><br></span>\n",
        "```if 조건문에 대한 설명으로 올바른 것을 골라주세요```\n",
        "\n",
        "1. if문은 조건을 만족하지 않을때 실행된다.\n",
        "2. else문은 조건문이 참일 때 실행된다.\n",
        "3. else는 단독으로 사용할 수 없다.\n",
        "4. else에서 실행되는 코드는 다음 줄에서 들여쓰기를 하지 않아야 한다.\n",
        "5. if는 항상 else가 있어여 한다."
      ]
    },
    {
      "cell_type": "markdown",
      "metadata": {
        "id": "YWR3ASi73kSz"
      },
      "source": [
        "<span style=\"color:red\">답변 3</span>"
      ]
    },
    {
      "cell_type": "markdown",
      "metadata": {
        "id": "Q9RrkOh-3kS0"
      },
      "source": []
    },
    {
      "cell_type": "markdown",
      "metadata": {
        "id": "rc-pVqyz3kS0"
      },
      "source": [
        "----"
      ]
    },
    {
      "cell_type": "markdown",
      "metadata": {
        "id": "ZqH7pAR83kS0"
      },
      "source": [
        "<span style=\"font-size:80%\">[문제4]<br><br></span>\n",
        "```아래 코드의 출력으로 올바른 것을 골라주세요```\n",
        "\n",
        "```x = 5```\n",
        "\n",
        "```if x % 2 ==0:```<br>\n",
        "&nbsp;&nbsp;```print(\"짝수\")```\n",
        "\n",
        "```else:```<br>\n",
        "&nbsp;&nbsp;```print(\"홀수\")```<br>\n",
        "\n",
        "\n",
        "1. 짝수\n",
        "2. 1\n",
        "3. 2\n",
        "4. 홀수\n",
        "5. 아무것도 출력되지 않는다."
      ]
    },
    {
      "cell_type": "markdown",
      "metadata": {
        "id": "rl3J4T0-3kS0"
      },
      "source": [
        "<span style=\"color:red\">답변 4</span>"
      ]
    },
    {
      "cell_type": "markdown",
      "metadata": {
        "id": "s5vMgGWz3kS1"
      },
      "source": []
    },
    {
      "cell_type": "markdown",
      "metadata": {
        "id": "Q4YPYsCb3kS1"
      },
      "source": [
        "----"
      ]
    },
    {
      "cell_type": "markdown",
      "metadata": {
        "id": "FKUufJeK3kS1"
      },
      "source": [
        "<span style=\"font-size:80%\">[문제5]<br><br></span>\n",
        "```아래의 if 조건과 동일한 조건을 찾아주세요```\n",
        "\n",
        "```if 15 >= x and x > 3```\n",
        "\n",
        "1. x < 3 < 15\n",
        "2. 3 <= x < 15\n",
        "3. 3 <= x <= 15\n",
        "4. 15 >= x\n",
        "5. 3 < x <= 15"
      ]
    },
    {
      "cell_type": "markdown",
      "metadata": {
        "id": "01evjQNV3kS1"
      },
      "source": [
        "<span style=\"color:red\">답변 5</span>"
      ]
    },
    {
      "cell_type": "markdown",
      "metadata": {
        "id": "J5cnkwHV3kS1"
      },
      "source": []
    },
    {
      "cell_type": "markdown",
      "metadata": {
        "id": "dQU9fj743kS1"
      },
      "source": [
        "----"
      ]
    },
    {
      "cell_type": "markdown",
      "metadata": {
        "id": "WHfGeaEW3kS1"
      },
      "source": [
        "### Chapter15 : `Python의 for문을 이용해 반복되는 작업 코드 개선해보기`"
      ]
    },
    {
      "cell_type": "markdown",
      "metadata": {
        "id": "JhHJkRzL3kS2"
      },
      "source": [
        "<span style=\"font-size:80%\">[문제1]<br><br></span>\n",
        "```다음 중 for문으로 10번 반복하는 방법으로 올바른 것을 모두 골라주세요```\n",
        "\n",
        "1. for i in range(10):\n",
        "2. for i in range(5, 16):\n",
        "3. for i in range(10, 0):\n",
        "4. for i in range(20, 40, 2):\n",
        "5. for i in range(1, 10, 1):"
      ]
    },
    {
      "cell_type": "markdown",
      "metadata": {
        "id": "h8d2hG2S3kS2"
      },
      "source": [
        "<span style=\"color:red\">답변 1</span>"
      ]
    },
    {
      "cell_type": "markdown",
      "metadata": {
        "id": "jMCcTovA3kS2"
      },
      "source": []
    },
    {
      "cell_type": "markdown",
      "metadata": {
        "id": "ig39MpYz3kS2"
      },
      "source": [
        "----"
      ]
    },
    {
      "cell_type": "markdown",
      "metadata": {
        "id": "aeSHuT8Q3kS2"
      },
      "source": [
        "<span style=\"font-size:80%\">[문제2]<br><br></span>\n",
        "```아래 코드에서 잘못된 부분에 대해서 설명해주세요```\n",
        "\n",
        "count = input()\n",
        "\n",
        "for i in range(count)<br>\n",
        "&emsp;&emsp;print('i의 값은', end=' ')<br>\n",
        "&emsp;&emsp;print(i)<br>"
      ]
    },
    {
      "cell_type": "markdown",
      "metadata": {
        "id": "iRZnZod33kS3"
      },
      "source": [
        "<span style=\"color:red\">답변:\n",
        "for문 끝에는 콤마 :\n",
        " 가 들어가야하는데 들어가지 않았음.\n",
        "</span>"
      ]
    },
    {
      "cell_type": "markdown",
      "metadata": {
        "id": "WNHbB6yZ3kS3"
      },
      "source": []
    },
    {
      "cell_type": "markdown",
      "metadata": {
        "id": "HrPBfZgK3kS3"
      },
      "source": [
        "----"
      ]
    },
    {
      "cell_type": "markdown",
      "metadata": {
        "id": "1OSRGaCp3kS3"
      },
      "source": [
        "<span style=\"font-size:80%\">[문제3]<br><br></span>\n",
        "```아래 코드를 실행 했을 때 결과물로 올바른 것을 골라주세요```\n",
        "\n",
        "for i in reversed(\"python\"):<br>\n",
        "&emsp;&emsp;print(i, end='.')<br>\n",
        "\n",
        "\n",
        "1. n.o.h.t.y.p.\n",
        "2. p.y.t.h.o.n.\n",
        "3. nothyp\n",
        "4. python"
      ]
    },
    {
      "cell_type": "markdown",
      "metadata": {
        "id": "ImBAHtpA3kS3"
      },
      "source": [
        "<span style=\"color:red\">답변 1</span>"
      ]
    },
    {
      "cell_type": "markdown",
      "metadata": {
        "id": "JZpzSs_X3kS3"
      },
      "source": []
    },
    {
      "cell_type": "markdown",
      "metadata": {
        "id": "pjlR7bMH3kS3"
      },
      "source": [
        "----"
      ]
    },
    {
      "cell_type": "markdown",
      "metadata": {
        "id": "7a4txTyi3kS4"
      },
      "source": [
        "<span style=\"font-size:80%\">[문제4]<br><br></span>\n",
        "```리스트에 저장된 데이터를 아래와 같이 출력하세요```\n",
        "\n",
        "오피스텔 = [ [201, 202], [301, 302], [401, 402] ]\n",
        "\n",
        "201호<br>\n",
        "202호<br>\n",
        "`----`\n",
        "\n",
        "301호<br>\n",
        "302호<br>\n",
        "`----`\n",
        "\n",
        "401호<br>\n",
        "402호<br>\n",
        "`----`"
      ]
    },
    {
      "cell_type": "markdown",
      "metadata": {
        "id": "2myGlW_e3kS4"
      },
      "source": [
        "<span style=\"color:red\">답변:\n",
        "        \n",
        "        for 층 in 오피스텔\n",
        "            for 호 in 오피스텔\n",
        "            print(f'{호}호')\n",
        "        \n",
        "        print('---')\n",
        "</span>"
      ]
    },
    {
      "cell_type": "markdown",
      "metadata": {
        "id": "1t95kE8f3kS4"
      },
      "source": []
    },
    {
      "cell_type": "markdown",
      "metadata": {
        "id": "QyE8zKMM3kS5"
      },
      "source": [
        "----"
      ]
    },
    {
      "cell_type": "markdown",
      "metadata": {
        "id": "zX0tm-gA3kS9"
      },
      "source": [
        "<span style=\"font-size:80%\">[문제5]<br><br></span>\n",
        "```ohlc 리스트에는 시가(open), 고가 (high), 저가 (low) , 종가(close)가 날짜별로 저장돼 있다. 종가가 150원보다 큰 경우에만 종가를 출력하는 코드를 작성해주세요```\n",
        "\n",
        "ohlc = [[\"open\", \"high\", \"low\", \"close\"], [100, 110, 70, 100], [200, 210, 180, 190], [300, 310, 300, 310]]"
      ]
    },
    {
      "cell_type": "markdown",
      "source": [],
      "metadata": {
        "id": "DhuVH4mE76Ti"
      }
    },
    {
      "cell_type": "markdown",
      "metadata": {
        "id": "UjJzGY0m3kS-"
      },
      "source": [
        "<span style=\"color:red\">답변\n",
        "\n",
        "        for i in ohic[1: ]:\n",
        "            if i [3] > 150:\n",
        "                print(i[3])\n",
        "</span>"
      ]
    },
    {
      "cell_type": "markdown",
      "metadata": {
        "id": "uNT9r7Yb3kS-"
      },
      "source": []
    },
    {
      "cell_type": "markdown",
      "metadata": {
        "id": "OZsiybl73kS-"
      },
      "source": [
        "### Chapter16 : `Python의 While문을 활용해 반복되는 코드를 개선해 보자`"
      ]
    },
    {
      "cell_type": "markdown",
      "metadata": {
        "id": "ZsEu69_83kS-"
      },
      "source": [
        "<span style=\"font-size:80%\">[문제1]<br><br></span>\n",
        "아래 코드의 올바른 실행 결과를 골라주세요\n",
        "```\n",
        "i = 10\n",
        "\n",
        "while i < 19:\n",
        "    print(i, end=' ')\n",
        "    i += 2\n",
        "```\n",
        "\n",
        "1. 10, 11, 12, 13, 14, 15, 16, 17, 18, 19\n",
        "2. 10 11 12 13 14 15 16 17 18\n",
        "3. 10 12 14 16 18 19\n",
        "4. 10 12 14 16 18\n",
        "5. 10 12 14 16"
      ]
    },
    {
      "cell_type": "markdown",
      "metadata": {
        "id": "RGwQwuRk3kS-"
      },
      "source": [
        "<span style=\"color:red\">답변\n",
        "\n",
        "    4\n",
        "</span>"
      ]
    },
    {
      "cell_type": "markdown",
      "metadata": {
        "id": "FX8Y4o7k3kS_"
      },
      "source": []
    },
    {
      "cell_type": "markdown",
      "metadata": {
        "id": "r8tLbDkd3kS_"
      },
      "source": [
        "----"
      ]
    },
    {
      "cell_type": "markdown",
      "metadata": {
        "id": "ZIJylfmd3kS_"
      },
      "source": [
        "<span style=\"font-size:80%\">[문제2]<br><br></span>\n",
        "다음 중 while 반복문에 대한 설명으로 잘못된 것을 모두 골라주세요\n",
        "\n",
        "1. while 반복문에는 조건식 또는 값을 지정하면 된다.\n",
        "2. while 반복문은 조건식의 결과가 True이면 반복을 끝낸다.\n",
        "3. while 반복문은 반복 횟수가 정해져 있을 때만 사용할 수 있다.\n",
        "4. while 반복문의 다음 줄은 반드시 들여쓰기를 해야 한다.\n",
        "5. while 반복문의 조건식에 True를 지정하면 무한 루프가 된다."
      ]
    },
    {
      "cell_type": "markdown",
      "metadata": {
        "id": "J14FhxSl3kS_"
      },
      "source": [
        "<span style=\"color:red\">답변\n",
        "\n",
        "    2, 3\n",
        "</span>"
      ]
    },
    {
      "cell_type": "markdown",
      "metadata": {
        "id": "1X5W6hZR3kS_"
      },
      "source": []
    },
    {
      "cell_type": "markdown",
      "metadata": {
        "id": "V9M3KNnX3kS_"
      },
      "source": [
        "----"
      ]
    },
    {
      "cell_type": "markdown",
      "metadata": {
        "id": "nsrNkiZc3kTA"
      },
      "source": [
        "<span style=\"font-size:80%\">[문제3]<br><br></span>\n",
        "while문을 사용하여, 100 이상의 자연수 중 가장 작은 23의 배수를 츨력하는 코드를 작성해주세요"
      ]
    },
    {
      "cell_type": "markdown",
      "metadata": {
        "id": "mhBCHVSm3kTA"
      },
      "source": [
        "<span style=\"color:red\">답변\n",
        "\n",
        "    i = 100\n",
        "\n",
        "    while True:\n",
        "        if i%23 == 0\n",
        "            print(i)\n",
        "            break\n",
        "        i += 1\n",
        "</span>"
      ]
    },
    {
      "cell_type": "markdown",
      "metadata": {
        "id": "W36DQP3J3kTA"
      },
      "source": []
    },
    {
      "cell_type": "markdown",
      "metadata": {
        "id": "6h2XwP1Q3kTA"
      },
      "source": [
        "----"
      ]
    }
  ],
  "metadata": {
    "language_info": {
      "name": "python"
    },
    "colab": {
      "provenance": []
    }
  },
  "nbformat": 4,
  "nbformat_minor": 0
}